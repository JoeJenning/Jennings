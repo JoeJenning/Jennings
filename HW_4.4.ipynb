{
 "cells": [
  {
   "cell_type": "code",
   "execution_count": 2,
   "metadata": {},
   "outputs": [],
   "source": [
    "import numpy as np\n",
    "import matplotlib.pyplot as plt\n",
    "from matplotlib import rcParams\n",
    "from sklearn import linear_model\n",
    "from scipy.optimize import minimize\n",
    "from keras.datasets import mnist\n",
    "\n",
    "rcParams.update({'font.size': 18})"
   ]
  },
  {
   "cell_type": "code",
   "execution_count": 3,
   "metadata": {},
   "outputs": [],
   "source": [
    "(train_X, train_y), (test_X, test_y) = mnist.load_data()"
   ]
  },
  {
   "cell_type": "code",
   "execution_count": 4,
   "metadata": {},
   "outputs": [],
   "source": [
    "A=np.zeros((np.square(train_X.shape[1]),train_X.shape[0]))\n",
    "for i in range(train_X.shape[0]):\n",
    "    A[:,i]=train_X[i].flatten()"
   ]
  },
  {
   "cell_type": "code",
   "execution_count": 28,
   "metadata": {},
   "outputs": [],
   "source": [
    "a = np.linalg.lstsq(A.T,train_y,rcond=None)[0]\n",
    "sol=A.T@a"
   ]
  },
  {
   "cell_type": "code",
   "execution_count": 47,
   "metadata": {},
   "outputs": [
    {
     "data": {
      "text/plain": [
       "<BarContainer object of 784 artists>"
      ]
     },
     "execution_count": 47,
     "metadata": {},
     "output_type": "execute_result"
    },
    {
     "data": {
      "image/png": "[encoded data removed]",
      "text/plain": [
       "<Figure size 432x288 with 1 Axes>"
      ]
     },
     "metadata": {
      "needs_background": "light"
     },
     "output_type": "display_data"
    }
   ],
   "source": [
    "plt.bar(range(a.shape[0]),a)"
   ]
  },
  {
   "cell_type": "code",
   "execution_count": 72,
   "metadata": {
    "scrolled": true
   },
   "outputs": [
    {
     "data": {
      "image/png": "[encoded data removed]",
      "text/plain": [
       "<Figure size 432x288 with 1 Axes>"
      ]
     },
     "metadata": {
      "needs_background": "light"
     },
     "output_type": "display_data"
    }
   ],
   "source": [
    "thresh=0.0025\n",
    "indices=np.abs(a) > thresh\n",
    "a_sparse= a * indices\n",
    "plt.bar(range(a.shape[0]),a_sparse)\n",
    "sol_sparse=A.T@a_sparse\n",
    "#plt.bar(range(sol_sparse.shape[0]),sol_sparse)\n",
    "err = np.linalg.norm(sol-train_y,ord=2)/np.linalg.norm(sol,ord=2)\n",
    "err_sparse = np.linalg.norm(sol_sparse-train_y,ord=2)/np.linalg.norm(sol_sparse,ord=2)"
   ]
  },
  {
   "cell_type": "code",
   "execution_count": 73,
   "metadata": {},
   "outputs": [],
   "source": [
    "A_test=np.zeros((np.square(test_X.shape[1]),test_X.shape[0]))\n",
    "for i in range(test_X.shape[0]):\n",
    "    A_test[:,i]=test_X[i].flatten()\n",
    "sol_test=A_test.T@a\n",
    "sol_test_sparse=A_test.T@a_sparse"
   ]
  },
  {
   "cell_type": "code",
   "execution_count": 74,
   "metadata": {},
   "outputs": [
    {
     "name": "stdout",
     "output_type": "stream",
     "text": [
      "Error for training set:  0.3878607583710504\n",
      "Error for sparse solution on training set:  5.728488162013484\n",
      "Error for test set:  0.3762635635032853\n",
      "Error for sparse solution on test set:  0.9733915794164647\n"
     ]
    }
   ],
   "source": [
    "err_test = np.linalg.norm(sol_test-test_y,ord=2)/np.linalg.norm(sol_test,ord=2)\n",
    "err_test_sparse= np.linalg.norm(sol_test_sparse-test_y,ord=2)/np.linalg.norm(sol_test,ord=2)\n",
    "print('Error for training set: ', err)\n",
    "print('Error for sparse solution on training set: ', err_sparse)\n",
    "print('Error for test set: ', err_test)\n",
    "print('Error for sparse solution on test set: ', err_test_sparse)"
   ]
  },
  {
   "cell_type": "code",
   "execution_count": null,
   "metadata": {},
   "outputs": [],
   "source": []
  }
 ],
 "metadata": {
  "kernelspec": {
   "display_name": "Python 3",
   "language": "python",
   "name": "python3"
  },
  "language_info": {
   "codemirror_mode": {
    "name": "ipython",
    "version": 3
   },
   "file_extension": ".py",
   "mimetype": "text/x-python",
   "name": "python",
   "nbconvert_exporter": "python",
   "pygments_lexer": "ipython3",
   "version": "3.8.5"
  }
 },
 "nbformat": 4,
 "nbformat_minor": 2
}
